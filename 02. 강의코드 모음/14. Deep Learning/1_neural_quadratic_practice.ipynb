{
 "cells": [
  {
   "cell_type": "markdown",
   "metadata": {
    "id": "yeF9d2w6OmeR"
   },
   "source": [
    "# Neural Network with Quadratic Data\n",
    "출처: https://github.com/GunhoChoi/PyTorch-FastCampus/blob/master/02_Regression%26NN/1_NN_code/1d_data/0_neural_quadratic.ipynb\n",
    "- y = 8x^2+7x+3\n",
    "- 4 hidden layers\n",
    "\n",
    "<img src=\"./quadratic.png\">\n",
    "\n",
    "사진출처: http://cs.franklin.edu/~sieberth/MATH160/bookFiles/Chapter3/333371_0307_317-323.pdf "
   ]
  },
  {
   "cell_type": "markdown",
   "metadata": {
    "id": "nx8jmBnLOmeW"
   },
   "source": [
    "## 1.Import Required Libraries"
   ]
  },
  {
   "cell_type": "code",
   "execution_count": 4,
   "metadata": {
    "executionInfo": {
     "elapsed": 3365,
     "status": "ok",
     "timestamp": 1658818424851,
     "user": {
      "displayName": "임경태컴퓨터공학과",
      "userId": "12494854822250349419"
     },
     "user_tz": -540
    },
    "id": "u0LNel6ZOmeW"
   },
   "outputs": [],
   "source": [
    "import numpy as np\n",
    "import torch\n",
    "import torch.nn as nn\n",
    "import torch.optim as optim\n",
    "import torch.nn.init as init\n",
    "from torch.autograd import Variable"
   ]
  },
  {
   "cell_type": "markdown",
   "metadata": {
    "id": "QeYHiUM3OmeY"
   },
   "source": [
    "## 2. Data Generation"
   ]
  },
  {
   "cell_type": "code",
   "execution_count": 5,
   "metadata": {
    "colab": {
     "base_uri": "https://localhost:8080/"
    },
    "executionInfo": {
     "elapsed": 493,
     "status": "ok",
     "timestamp": 1658818451804,
     "user": {
      "displayName": "임경태컴퓨터공학과",
      "userId": "12494854822250349419"
     },
     "user_tz": -540
    },
    "id": "vLphYawrOmeZ",
    "outputId": "d01a6e36-9787-466f-ce99-1e78afa0ac8f",
    "scrolled": true
   },
   "outputs": [
    {
     "name": "stderr",
     "output_type": "stream",
     "text": [
      "/var/folders/ws/_w1zc2m561d_76233frzs4qr0000gn/T/ipykernel_9822/3698325371.py:4: UserWarning: nn.init.normal is now deprecated in favor of nn.init.normal_.\n",
      "  noise = init.normal(torch.FloatTensor(num_data,1),std=3)\n",
      "/var/folders/ws/_w1zc2m561d_76233frzs4qr0000gn/T/ipykernel_9822/3698325371.py:6: UserWarning: nn.init.uniform is now deprecated in favor of nn.init.uniform_.\n",
      "  x = init.uniform(torch.Tensor(num_data,1),-15,15)\n"
     ]
    }
   ],
   "source": [
    "num_data = 1000\n",
    "num_epoch = 5000\n",
    "\n",
    "noise = init.normal(torch.FloatTensor(num_data,1),std=3)\n",
    "\n",
    "x = init.uniform(torch.Tensor(num_data,1),-15,15)\n",
    "y = (x**2) + 3 \n",
    "\n",
    "y_noise = y + noise\n",
    "\n",
    "\n"
   ]
  },
  {
   "cell_type": "markdown",
   "metadata": {
    "id": "-LgxD8CxOmea"
   },
   "source": [
    "## 문제1. Linear모델을 생성해 봅시다."
   ]
  },
  {
   "cell_type": "markdown",
   "metadata": {
    "id": "wa84P1UWOmeb"
   },
   "source": [
    "## 3. Model & Optimizer"
   ]
  },
  {
   "cell_type": "code",
   "execution_count": null,
   "metadata": {
    "id": "CZFYMhoeOmeb"
   },
   "outputs": [],
   "source": [
    "model = nn.Sequential(\n",
    "\n",
    "    ## 여기에 코드를 넣으세요.\n",
    "    nn.xxxx,\n",
    "    nn.xxxx,\n",
    "    nn.xxxx,\n",
    " \n",
    "    )\n",
    "\n",
    "loss_func = nn.L1Loss()\n",
    "optimizer = optim.SGD(model.parameters(),lr=0.001)"
   ]
  },
  {
   "cell_type": "markdown",
   "metadata": {
    "id": "-Rmq1JYjOmec"
   },
   "source": [
    "## 4. Train "
   ]
  },
  {
   "cell_type": "code",
   "execution_count": null,
   "metadata": {
    "id": "xc1bT9EWOmec",
    "scrolled": true
   },
   "outputs": [],
   "source": [
    "loss_arr =[]\n",
    "label = y_noise\n",
    "\n",
    "for i in range(num_epoch):\n",
    "    optimizer.zero_grad()\n",
    "    \n",
    "    \n",
    "    output = #여기에 코드를 넣으세요. 예) output이 어떻게 결정되었죠?\n",
    "\n",
    "    loss = #여기에 코드를 넣으세요. 예) loss는 예측값과 정답의 오차입니다.\n",
    "    loss.backward() #여기서 W와 b의 미분값을 구합니다.\n",
    "    optimizer.step() #구해진 미분값을 기준으로 W와 b값을 업데이트 합니다.\n",
    "    \n",
    "    if i % 100 ==0:\n",
    "        print(loss)\n",
    "    \n",
    "    #loss_arr.append(loss.cpu().data.numpy()[0])\n",
    "    loss_arr.append(loss.item())"
   ]
  },
  {
   "cell_type": "code",
   "execution_count": null,
   "metadata": {
    "id": "DfkLZZnDOmec"
   },
   "outputs": [],
   "source": [
    "param_list = list(model.parameters())\n",
    "print(param_list)"
   ]
  }
 ],
 "metadata": {
  "colab": {
   "name": "1_neural_quadratic_practice.ipynb",
   "provenance": []
  },
  "kernelspec": {
   "display_name": "Python 3 (ipykernel)",
   "language": "python",
   "name": "python3"
  },
  "language_info": {
   "codemirror_mode": {
    "name": "ipython",
    "version": 3
   },
   "file_extension": ".py",
   "mimetype": "text/x-python",
   "name": "python",
   "nbconvert_exporter": "python",
   "pygments_lexer": "ipython3",
   "version": "3.9.7"
  }
 },
 "nbformat": 4,
 "nbformat_minor": 1
}
